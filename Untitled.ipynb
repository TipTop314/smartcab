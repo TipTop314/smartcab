{
 "cells": [
  {
   "cell_type": "code",
   "execution_count": 4,
   "metadata": {
    "collapsed": false
   },
   "outputs": [],
   "source": [
    "valid_actions = ['None', 'forward', 'left', 'right']\n",
    "Q = {x:0.0 for x in valid_actions}"
   ]
  },
  {
   "cell_type": "code",
   "execution_count": 30,
   "metadata": {
    "collapsed": false
   },
   "outputs": [],
   "source": [
    "Q = {'None': 2, 'forward': 3, 'left': 5, 'right': 5}"
   ]
  },
  {
   "cell_type": "code",
   "execution_count": 22,
   "metadata": {
    "collapsed": false
   },
   "outputs": [
    {
     "data": {
      "text/plain": [
       "5"
      ]
     },
     "execution_count": 22,
     "metadata": {},
     "output_type": "execute_result"
    }
   ],
   "source": [
    "v = Q.values()\n",
    "max(v)"
   ]
  },
  {
   "cell_type": "code",
   "execution_count": 7,
   "metadata": {
    "collapsed": false
   },
   "outputs": [
    {
     "data": {
      "text/plain": [
       "'right'"
      ]
     },
     "execution_count": 7,
     "metadata": {},
     "output_type": "execute_result"
    }
   ],
   "source": [
    "a = max(Q)\n",
    "a"
   ]
  },
  {
   "cell_type": "code",
   "execution_count": 31,
   "metadata": {
    "collapsed": false
   },
   "outputs": [
    {
     "data": {
      "text/plain": [
       "['forward', 'None', 'right', 'left']"
      ]
     },
     "execution_count": 31,
     "metadata": {},
     "output_type": "execute_result"
    }
   ],
   "source": [
    "Q.keys()"
   ]
  },
  {
   "cell_type": "code",
   "execution_count": 33,
   "metadata": {
    "collapsed": false
   },
   "outputs": [
    {
     "data": {
      "text/plain": [
       "0"
      ]
     },
     "execution_count": 33,
     "metadata": {},
     "output_type": "execute_result"
    }
   ],
   "source": [
    "A = []\n",
    "len(A)"
   ]
  },
  {
   "cell_type": "code",
   "execution_count": 43,
   "metadata": {
    "collapsed": false
   },
   "outputs": [
    {
     "data": {
      "text/plain": [
       "3"
      ]
     },
     "execution_count": 43,
     "metadata": {},
     "output_type": "execute_result"
    }
   ],
   "source": [
    "Q[Q.keys()[0]]"
   ]
  },
  {
   "cell_type": "code",
   "execution_count": 61,
   "metadata": {
    "collapsed": false
   },
   "outputs": [
    {
     "name": "stdout",
     "output_type": "stream",
     "text": [
      "{'forward': 5, 'None': 2, 'right': 5, 'left': 5}\n",
      "{'forward': 5, 'right': 5, 'left': 5}\n"
     ]
    }
   ],
   "source": [
    "Q = {'None': 2, 'forward': 5, 'left': 5, 'right': 5}\n",
    "maxQ = dict()\n",
    "print Q\n",
    "for k,v in Q.iteritems():\n",
    "    #print k\n",
    "    if len(maxQ) == 0:\n",
    "        maxQ[k] = v\n",
    "        #print \"start list\"\n",
    "    else:\n",
    "        #print \"max value = \",maxQ[maxQ.keys()[0]]\n",
    "        if v > maxQ[maxQ.keys()[0]]:\n",
    "            maxQ = dict()\n",
    "            maxQ[k] = v\n",
    "            #print \"replace list:\",maxQ\n",
    "        elif v == maxQ[maxQ.keys()[0]]:\n",
    "            maxQ[k] = v\n",
    "            #print \"add to list:\",maxQ\n",
    "print maxQ"
   ]
  },
  {
   "cell_type": "code",
   "execution_count": 62,
   "metadata": {
    "collapsed": false
   },
   "outputs": [
    {
     "data": {
      "text/plain": [
       "{'None': 2, 'forward': 5, 'left': 5, 'right': 5}"
      ]
     },
     "execution_count": 62,
     "metadata": {},
     "output_type": "execute_result"
    }
   ],
   "source": [
    "Q"
   ]
  },
  {
   "cell_type": "code",
   "execution_count": 78,
   "metadata": {
    "collapsed": true
   },
   "outputs": [],
   "source": [
    "import random"
   ]
  },
  {
   "cell_type": "code",
   "execution_count": 82,
   "metadata": {
    "collapsed": false
   },
   "outputs": [
    {
     "name": "stdout",
     "output_type": "stream",
     "text": [
      "['forward', 'None', 'right', 'left']\n",
      "right\n"
     ]
    }
   ],
   "source": [
    "Q = {'None': 0, 'forward': 0, 'left': 0, 'right': 0}\n",
    "\n",
    "maxQ = max(Q.values())\n",
    "maxActions = [k for k,v in Q.iteritems() if v == maxQ]\n",
    "print maxActions\n",
    "choice = random.choice(maxActions)\n",
    "print choice"
   ]
  },
  {
   "cell_type": "code",
   "execution_count": null,
   "metadata": {
    "collapsed": true
   },
   "outputs": [],
   "source": []
  }
 ],
 "metadata": {
  "kernelspec": {
   "display_name": "Python [default]",
   "language": "python",
   "name": "python2"
  },
  "language_info": {
   "codemirror_mode": {
    "name": "ipython",
    "version": 2
   },
   "file_extension": ".py",
   "mimetype": "text/x-python",
   "name": "python",
   "nbconvert_exporter": "python",
   "pygments_lexer": "ipython2",
   "version": "2.7.12"
  }
 },
 "nbformat": 4,
 "nbformat_minor": 1
}
